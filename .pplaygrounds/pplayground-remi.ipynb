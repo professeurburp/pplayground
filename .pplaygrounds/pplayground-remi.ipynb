{
 "cells": [
  {
   "attachments": {},
   "cell_type": "markdown",
   "metadata": {},
   "source": [
    "# python playground - pplayground\n",
    "\n",
    "let's play with python 3.10+!"
   ]
  },
  {
   "attachments": {},
   "cell_type": "markdown",
   "metadata": {},
   "source": [
    "## basics\n",
    "\n",
    "create a list of integers and display some information about its values."
   ]
  },
  {
   "cell_type": "code",
   "execution_count": null,
   "metadata": {},
   "outputs": [],
   "source": [
    "my_list = [3, 6, 23, 43, 65, 74]\n",
    "\n",
    "print(f'my_list is a list with elements of type {type(next(iter(my_list))).__name__}. it contains {len(my_list)} elements')\n",
    "print(f'min value is {min(my_list)}, max value is {max(my_list)}, mean is {sum(my_list) / len(my_list):.2f}')\n"
   ]
  },
  {
   "attachments": {},
   "cell_type": "markdown",
   "metadata": {},
   "source": [
    "now, let's define a *generate_list()* function to generate this integer list."
   ]
  },
  {
   "cell_type": "code",
   "execution_count": null,
   "metadata": {},
   "outputs": [],
   "source": [
    "import math, random\n",
    "\n",
    "def generate_list(length: int) -> list[int]:\n",
    "    # https://www.geeksforgeeks.org/generating-random-number-list-in-python/\n",
    "    return random.sample(range(1, int(math.pow(length, 2))), length)\n",
    "    # our modification:\n",
    "    # math.pow() ensures our random sample is large enough\n",
    "    # and adds more randomness as the generated list length grows larger\n",
    "\n",
    "count = 10\n",
    "print(f'generating a {count} number list...')\n",
    "\n",
    "my_list = generate_list(count)\n",
    "\n",
    "print(f'my list is: \\n{my_list}')\n"
   ]
  },
  {
   "attachments": {},
   "cell_type": "markdown",
   "metadata": {},
   "source": [
    "do we need to modify the previous *generate_list()* function to ensure all values are different within a list?"
   ]
  },
  {
   "cell_type": "code",
   "execution_count": null,
   "metadata": {},
   "outputs": [],
   "source": [
    "# this is a comment, we can add context info directly into the code\n",
    "\n",
    "# no need in that case: random.sample() function ensures all returned values are different"
   ]
  },
  {
   "attachments": {},
   "cell_type": "markdown",
   "metadata": {},
   "source": [
    "## algorithms"
   ]
  },
  {
   "attachments": {},
   "cell_type": "markdown",
   "metadata": {},
   "source": [
    "### sorting\n",
    "\n",
    "so we have an unsorted list of n integers.\n",
    "\n",
    "let's filter them by creating a *sort_list()* function that sorts an integer list\n",
    "\n",
    "https://en.wikipedia.org/wiki/Bubble_sort"
   ]
  },
  {
   "cell_type": "code",
   "execution_count": null,
   "metadata": {},
   "outputs": [],
   "source": [
    "def bubble_sort(intlist):\n",
    "    permutations = False\n",
    "    while not permutations:\n",
    "        if permutations:\n",
    "            permutations = False\n",
    "\n",
    "        for i in range(0, len(intlist)-1):\n",
    "            for j in range(i+1, len(intlist)):\n",
    "                if intlist[i] > intlist[j]:\n",
    "                    temp = intlist[i]\n",
    "                    intlist[i] = intlist[j]\n",
    "                    intlist[j] = temp\n",
    "                    permutations = True\n",
    "        \n",
    "    return intlist\n",
    "\n",
    "count = 15\n",
    "intlist = generate_list(count)\n",
    "print(f'unsorted int list: {intlist}')\n",
    "bubble_sort(intlist)\n",
    "print(f'sorted list: {intlist}')"
   ]
  },
  {
   "attachments": {},
   "cell_type": "markdown",
   "metadata": {},
   "source": [
    "can we imagine other sorting methods?\n",
    "\n",
    "let's create:\n",
    "- *selection_sort()* https://en.wikipedia.org/wiki/Selection_sort\n",
    "- our own sort implementation :)"
   ]
  },
  {
   "cell_type": "code",
   "execution_count": null,
   "metadata": {},
   "outputs": [],
   "source": [
    "def selection_sort(intlist: list[int]):\n",
    "    for i in range(len(intlist)):\n",
    "        # Find min value index in remaining unfiltered elements\n",
    "        min_value = min(intlist[i:])\n",
    "        min_index = intlist.index(min_value)\n",
    "        # Switch the new minimum value to its proper place\n",
    "        temp = intlist[i]\n",
    "        intlist[i] = min_value\n",
    "        intlist[min_index] = temp\n",
    "    return intlist\n",
    "\n",
    "def custom_sort(intlist: list):\n",
    "    # python has built-in sort function for iterables, why bother? ;)\n",
    "    intlist.sort()\n",
    "    return intlist\n",
    "\n",
    "count = 10\n",
    "\n",
    "intlist = generate_list(count)\n",
    "sav_list = [*intlist]\n",
    "print(f'unsorted int list: {intlist}')\n",
    "\n",
    "selection_sort(intlist)\n",
    "print(f'sorted list: {intlist} with {selection_sort}')\n",
    "print(f'We can still verify the initial list is unsorted: {sav_list}')\n",
    "\n",
    "custom_sort(sav_list)\n",
    "print(f'sorted list: {sav_list} with {custom_sort}')"
   ]
  },
  {
   "attachments": {},
   "cell_type": "markdown",
   "metadata": {},
   "source": [
    "### performance\n",
    "\n",
    "what happens when our list starts becoming large? let's find out!\n",
    "\n",
    "- create a 1000-element integer list\n",
    "- sort it with different sort functions\n",
    "- for each sort function, print the time that was necessary to sort the list"
   ]
  },
  {
   "cell_type": "code",
   "execution_count": null,
   "metadata": {},
   "outputs": [],
   "source": [
    "list = generate_list(2500)\n",
    "\n",
    "def execute_and_monitor(func, **kwargs):\n",
    "    from time import perf_counter\n",
    "    perf = perf_counter()\n",
    "    \n",
    "    # execute the function with the provided parameters\n",
    "    func(**kwargs)\n",
    "\n",
    "    # print execution time\n",
    "    exec_time = perf_counter() - perf\n",
    "    print(f'function {func} needed {(exec_time):.3f} sec to run.')\n",
    "    check_sorted(kwargs.get('intlist'))\n",
    "\n",
    "    return exec_time\n",
    "\n",
    "def check_sorted(list):\n",
    "    sort_text = 'sorted' if list[0] < list[2] and list[2] < list[3] else 'unsorted'\n",
    "    print(f'{sort_text} list with {len(list)} elements, starting with {list[0:2]}, ending with {list[-2:]}')\n",
    "\n",
    "check_sorted(list)\n",
    "selection_sorted = execute_and_monitor(selection_sort, **{'intlist': list.copy()})\n",
    "check_sorted(list)\n",
    "bubble_sorted = execute_and_monitor(bubble_sort, **{'intlist': list.copy()})\n",
    "check_sorted(list)\n"
   ]
  }
 ],
 "metadata": {
  "kernelspec": {
   "display_name": "Python 3",
   "language": "python",
   "name": "python3"
  },
  "language_info": {
   "codemirror_mode": {
    "name": "ipython",
    "version": 3
   },
   "file_extension": ".py",
   "mimetype": "text/x-python",
   "name": "python",
   "nbconvert_exporter": "python",
   "pygments_lexer": "ipython3",
   "version": "3.10.6"
  },
  "orig_nbformat": 4
 },
 "nbformat": 4,
 "nbformat_minor": 2
}
