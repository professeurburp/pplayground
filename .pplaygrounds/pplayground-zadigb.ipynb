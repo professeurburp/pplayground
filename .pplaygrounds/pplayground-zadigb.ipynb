{
 "cells": [
  {
   "attachments": {},
   "cell_type": "markdown",
   "metadata": {},
   "source": [
    "# python playground - pplayground\n",
    "\n",
    "let's play with python 3.10+!"
   ]
  },
  {
   "attachments": {},
   "cell_type": "markdown",
   "metadata": {},
   "source": [
    "## basics\n",
    "\n",
    "create a list of integers and display some information about its values."
   ]
  },
  {
   "cell_type": "code",
   "execution_count": null,
   "metadata": {},
   "outputs": [],
   "source": [
    "import random\n",
    "list = [random.randint(1, 1000) for _ in range(10)]"
   ]
  },
  {
   "attachments": {},
   "cell_type": "markdown",
   "metadata": {},
   "source": [
    "now, let's define a *generate_list()* function to generate this integer list."
   ]
  },
  {
   "cell_type": "code",
   "execution_count": null,
   "metadata": {},
   "outputs": [],
   "source": [
    "def generate_list(start, end):\n",
    "    import random\n",
    "    start = 1\n",
    "    end = 1000\n",
    "    list = [random.randint(start, end) for _ in range(10)]\n",
    "    return list"
   ]
  },
  {
   "attachments": {},
   "cell_type": "markdown",
   "metadata": {},
   "source": [
    "do we need to modify the previous *generate_list()* function to ensure all values are different within a list?"
   ]
  },
  {
   "cell_type": "code",
   "execution_count": null,
   "metadata": {},
   "outputs": [],
   "source": [
    "# this is a comment, we can add context info directly into the code\n",
    "\n",
    "# remi: generate_list(_start_, end) semble retourner quoi qu'il arrive une liste de 10 entiers entre start et_end\n",
    "# est-on surs que ces 10 entiers sont tous differents ?"
   ]
  },
  {
   "attachments": {},
   "cell_type": "markdown",
   "metadata": {},
   "source": [
    "## algorithms"
   ]
  },
  {
   "attachments": {},
   "cell_type": "markdown",
   "metadata": {},
   "source": [
    "### sorting\n",
    "\n",
    "so we have an unsorted list of n integers.\n",
    "\n",
    "let's filter them by creating a *sort_list()* function that sorts an integer list\n",
    "\n",
    "https://en.wikipedia.org/wiki/Bubble_sort"
   ]
  },
  {
   "cell_type": "code",
   "execution_count": null,
   "metadata": {},
   "outputs": [],
   "source": [
    "def tri_bulle(list):\n",
    "    import time\n",
    "    start = time.time()\n",
    "    for i in range(len(list)):\n",
    "        for j in range(0, len(list)-i-1):\n",
    "            if list[j] > list[j+1] :\n",
    "                list[j], list[j+1] = list[j+1], list[j]\n",
    "    end = time.time()\n",
    "    tps_car = (end - start) / len(list)\n",
    "    return list, tps_car"
   ]
  },
  {
   "attachments": {},
   "cell_type": "markdown",
   "metadata": {},
   "source": [
    "can we imagine other sorting methods?\n",
    "\n",
    "let's create:\n",
    "- *selection_sort()* https://en.wikipedia.org/wiki/Selection_sort\n",
    "- our own sort implementation :)"
   ]
  },
  {
   "cell_type": "code",
   "execution_count": null,
   "metadata": {},
   "outputs": [],
   "source": [
    "def tri_selection(list):\n",
    "    import time\n",
    "    start = time.time()\n",
    "    for i in range(len(list)):\n",
    "        min = i\n",
    "        for j in range(i+1, len(list)):\n",
    "            if list[j] < list[min]:\n",
    "                min = j\n",
    "        list[i], list[min] = list[min], list[i]\n",
    "    end = time.time()\n",
    "    tps_car = (end - start) / len(list)\n",
    "    return list, tps_car\n",
    "\n",
    "# remi: pas d'iimplementation personnelle ici ? ;)"
   ]
  },
  {
   "attachments": {},
   "cell_type": "markdown",
   "metadata": {},
   "source": [
    "### performance\n",
    "\n",
    "what happens when our list starts becoming large? let's find out!\n",
    "\n",
    "- create a 1000-element integer list\n",
    "- sort it with different sort functions\n",
    "- for each sort function, print the time that was necessary to sort the list"
   ]
  },
  {
   "cell_type": "code",
   "execution_count": null,
   "metadata": {},
   "outputs": [],
   "source": [
    "import time\n",
    "\n",
    "# remi: a nouveau, combien d'elements sont crees dans la variable list lors de l'appel a generate_list ?\n",
    "generate_list(1,1000)\n",
    "print(f'generated a {len(list)} random integer list:')\n",
    "# print(list)\n",
    "\n",
    "print('before tri_slection:', list)\n",
    "start1 = time.time()\n",
    "tri_selection(list)\n",
    "\n",
    "print(list)\n",
    "end1 = time.time()\n",
    "print('after tri_selection:', list)\n",
    "\n",
    "generate_list(1, 1000)\n",
    "print('before tri_bulle:', list)\n",
    "start2 = time.time()\n",
    "tri_bulle(list)\n",
    "print('after tri_bulle:', list)\n",
    "end2 = time.time()\n",
    "\n",
    "print(f'tri bulle :{end2-start2} seconds')\n",
    "print(f'selection :{end1-start1} seconds')\n",
    "\n",
    "# remi: questions:\n",
    "# - combien d'elements cree-t-on ici dans les listes d'entiers ?\n",
    "# - le temps d'execution est-il comparable entre le tri bulle et le tri selection pour de petites listes ?\n",
    "# - que se passe-t-il dans le cas de grandes listes (1_000 - 10_000 - etc...) ?\n",
    "# - es-tu sur que la liste que tu tries lors de l'appel a tri_bulle n'est pas deja triee ?\n"
   ]
  }
 ],
 "metadata": {
  "kernelspec": {
   "display_name": "Python 3",
   "language": "python",
   "name": "python3"
  },
  "language_info": {
   "codemirror_mode": {
    "name": "ipython",
    "version": 3
   },
   "file_extension": ".py",
   "mimetype": "text/x-python",
   "name": "python",
   "nbconvert_exporter": "python",
   "pygments_lexer": "ipython3",
   "version": "3.10.6"
  },
  "orig_nbformat": 4
 },
 "nbformat": 4,
 "nbformat_minor": 2
}
